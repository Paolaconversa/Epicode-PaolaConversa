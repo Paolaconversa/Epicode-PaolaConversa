{
 "cells": [
  {
   "cell_type": "code",
   "execution_count": 1,
   "id": "2830b10f-dfc8-4b15-89cc-15815b7d3fda",
   "metadata": {},
   "outputs": [],
   "source": [
    "#Esercizio: abbiamo 25 studenti; memorizzare questo dato in una variabile"
   ]
  },
  {
   "cell_type": "code",
   "execution_count": 4,
   "id": "77d39e61-5136-4d69-ad76-8f68c6c41a9b",
   "metadata": {},
   "outputs": [],
   "source": [
    "Studenti=25"
   ]
  },
  {
   "cell_type": "code",
   "execution_count": 5,
   "id": "9d88acbe-d829-472e-b65f-83ac49255a19",
   "metadata": {},
   "outputs": [
    {
     "data": {
      "text/plain": [
       "25"
      ]
     },
     "execution_count": 5,
     "metadata": {},
     "output_type": "execute_result"
    }
   ],
   "source": [
    "Studenti"
   ]
  },
  {
   "cell_type": "code",
   "execution_count": 6,
   "id": "9cac0ea3-db96-44cd-a9e0-f2ce31d8dc96",
   "metadata": {},
   "outputs": [],
   "source": [
    "#Abbiamo 25 studenti; memorizzare questo dato in una variabile e stamparla a video"
   ]
  },
  {
   "cell_type": "code",
   "execution_count": 7,
   "id": "2feda13c-48dc-4c3d-88d9-8f1471a4c270",
   "metadata": {},
   "outputs": [],
   "source": [
    "Studenti=25"
   ]
  },
  {
   "cell_type": "code",
   "execution_count": 8,
   "id": "ab92671c-c2b6-4ec3-83bb-ece710770943",
   "metadata": {},
   "outputs": [
    {
     "data": {
      "text/plain": [
       "25"
      ]
     },
     "execution_count": 8,
     "metadata": {},
     "output_type": "execute_result"
    }
   ],
   "source": [
    "Studenti"
   ]
  },
  {
   "cell_type": "code",
   "execution_count": 9,
   "id": "4a7fb898-c41c-4f91-a670-07fb84bb0c13",
   "metadata": {},
   "outputs": [
    {
     "name": "stdout",
     "output_type": "stream",
     "text": [
      "25\n"
     ]
    }
   ],
   "source": [
    "print(Studenti)"
   ]
  },
  {
   "cell_type": "code",
   "execution_count": 10,
   "id": "53e9be8d-7813-4b84-ac55-142ae97eeb2e",
   "metadata": {},
   "outputs": [],
   "source": [
    "#Arrivano altri 3 studenti; memorizzare questo dato in un'altra variabile."
   ]
  },
  {
   "cell_type": "code",
   "execution_count": 11,
   "id": "20a5583d-5686-401f-92bb-7000b92e1afe",
   "metadata": {},
   "outputs": [],
   "source": [
    "Studenti=25+3"
   ]
  },
  {
   "cell_type": "code",
   "execution_count": 12,
   "id": "219933ce-50c1-41e6-a110-b0c5cbfbb544",
   "metadata": {},
   "outputs": [
    {
     "data": {
      "text/plain": [
       "28"
      ]
     },
     "execution_count": 12,
     "metadata": {},
     "output_type": "execute_result"
    }
   ],
   "source": [
    "Studenti"
   ]
  },
  {
   "cell_type": "code",
   "execution_count": 13,
   "id": "be973769-eadf-4276-8bec-f8fb9aced97f",
   "metadata": {},
   "outputs": [
    {
     "name": "stdout",
     "output_type": "stream",
     "text": [
      "28\n"
     ]
    }
   ],
   "source": [
    "print(Studenti)"
   ]
  },
  {
   "cell_type": "code",
   "execution_count": 20,
   "id": "b864f8cb-ec00-4c4d-ad2b-815f46fa2fb1",
   "metadata": {},
   "outputs": [],
   "source": [
    "List=[0,1,2,3,4,5]"
   ]
  },
  {
   "cell_type": "code",
   "execution_count": 21,
   "id": "44746b28-00ef-4ff6-9b7c-f221ed8eb153",
   "metadata": {},
   "outputs": [
    {
     "data": {
      "text/plain": [
       "[0, 1, 2, 3, 4, 5]"
      ]
     },
     "execution_count": 21,
     "metadata": {},
     "output_type": "execute_result"
    }
   ],
   "source": [
    "List"
   ]
  },
  {
   "cell_type": "code",
   "execution_count": null,
   "id": "894321ca-51fb-4875-bf50-bca54ff8ad0c",
   "metadata": {},
   "outputs": [],
   "source": [
    "ListFilm=[\"I passi dell'amore\", \"Titanic\", \"]"
   ]
  }
 ],
 "metadata": {
  "kernelspec": {
   "display_name": "Python 3 (ipykernel)",
   "language": "python",
   "name": "python3"
  },
  "language_info": {
   "codemirror_mode": {
    "name": "ipython",
    "version": 3
   },
   "file_extension": ".py",
   "mimetype": "text/x-python",
   "name": "python",
   "nbconvert_exporter": "python",
   "pygments_lexer": "ipython3",
   "version": "3.10.9"
  }
 },
 "nbformat": 4,
 "nbformat_minor": 5
}
